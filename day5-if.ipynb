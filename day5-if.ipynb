{
 "cells": [
  {
   "cell_type": "code",
   "execution_count": 9,
   "id": "25db7386",
   "metadata": {},
   "outputs": [],
   "source": [
    "def eval_x(x):\n",
    "    if x % 2 == 0:\n",
    "        if x % 3 == 0:\n",
    "            return \"C\"\n",
    "        else:\n",
    "            return \"B\"\n",
    "    else:\n",
    "        return \"D\""
   ]
  },
  {
   "cell_type": "code",
   "execution_count": 13,
   "id": "c7b17c49",
   "metadata": {},
   "outputs": [],
   "source": [
    "assert eval_x(3) == \"D\"\n",
    "assert eval_x(4) == \"B\"\n",
    "assert eval_x(12) == \"C\"\n",
    "assert eval_x(182) == \"B\"\n",
    "\n",
    "assert eval_x(0) == \"C\"\n",
    "assert eval_x(-7) == \"D\"\n",
    "assert eval_x(1.5) == \"D\""
   ]
  },
  {
   "cell_type": "code",
   "execution_count": 15,
   "id": "7a65d2d9",
   "metadata": {},
   "outputs": [
    {
     "name": "stdout",
     "output_type": "stream",
     "text": [
      "C\n"
     ]
    }
   ],
   "source": [
    "x = float(input(\"Enter a number: \"))\n",
    "print(eval_x(x))"
   ]
  }
 ],
 "metadata": {
  "kernelspec": {
   "display_name": "Python 3",
   "language": "python",
   "name": "python3"
  },
  "language_info": {
   "codemirror_mode": {
    "name": "ipython",
    "version": 3
   },
   "file_extension": ".py",
   "mimetype": "text/x-python",
   "name": "python",
   "nbconvert_exporter": "python",
   "pygments_lexer": "ipython3",
   "version": "3.14.0"
  }
 },
 "nbformat": 4,
 "nbformat_minor": 5
}
